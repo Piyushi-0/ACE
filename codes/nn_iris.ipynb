{
 "cells": [
  {
   "cell_type": "code",
   "execution_count": 1,
   "metadata": {},
   "outputs": [],
   "source": [
    "import torch\n",
    "import torch.autograd as autograd\n",
    "import torch.nn as nn\n",
    "import torch.nn.functional as F\n",
    "import torch.optim as optim\n",
    "import os,csv,math,sys, joblib\n",
    "import numpy as np\n",
    "import sklearn.model_selection, sklearn.preprocessing\n",
    "import pandas as pd\n",
    "from sklearn.preprocessing import MinMaxScaler"
   ]
  },
  {
   "cell_type": "code",
   "execution_count": 2,
   "metadata": {},
   "outputs": [],
   "source": [
    "class neural_network(nn.Module):\n",
    "    def __init__(self, num_input, num_hidden,num_output):\n",
    "        super(neural_network, self).__init__()\n",
    "        self.hidden = nn.Linear(num_input,num_hidden).cuda()\n",
    "        self.out = nn.Linear(num_hidden,num_output).cuda()\n",
    "\n",
    "    def forward(self, x):\n",
    "        x = F.relu(self.hidden(x))\n",
    "        return self.out(x)"
   ]
  },
  {
   "cell_type": "code",
   "execution_count": 3,
   "metadata": {},
   "outputs": [
    {
     "data": {
      "text/plain": [
       "<torch._C.Generator at 0x7f21f17c1710>"
      ]
     },
     "execution_count": 3,
     "metadata": {},
     "output_type": "execute_result"
    }
   ],
   "source": [
    "seed = 1\n",
    "np.random.seed(seed)\n",
    "torch.manual_seed(seed)"
   ]
  },
  {
   "cell_type": "code",
   "execution_count": 4,
   "metadata": {},
   "outputs": [],
   "source": [
    "dataset = pd.read_csv('Iris_Dataset.csv')\n",
    "dataset = pd.get_dummies(dataset, columns=['Species']) # One Hot Encoding\n",
    "values = list(dataset.columns.values)"
   ]
  },
  {
   "cell_type": "code",
   "execution_count": 5,
   "metadata": {},
   "outputs": [],
   "source": [
    "y = dataset[values[-3:]]\n",
    "y = np.array(y, dtype='float32')\n",
    "X = dataset[values[:-3]]\n",
    "X = np.array(X, dtype='float32')"
   ]
  },
  {
   "cell_type": "code",
   "execution_count": 9,
   "metadata": {},
   "outputs": [
    {
     "name": "stderr",
     "output_type": "stream",
     "text": [
      "/home/cs18mtech11019/anaconda2/lib/python2.7/site-packages/ipykernel_launcher.py:65: UserWarning: invalid index of a 0-dim tensor. This will be an error in PyTorch 0.5. Use tensor.item() to convert a 0-dim tensor to a Python number\n"
     ]
    },
    {
     "name": "stdout",
     "output_type": "stream",
     "text": [
      "tensor(1.1974, device='cuda:0')\n",
      "tensor(0.7720, device='cuda:0')\n",
      "tensor(0.4063, device='cuda:0')\n",
      "tensor(0.2687, device='cuda:0')\n",
      "tensor(0.1959, device='cuda:0')\n",
      "tensor(0.1504, device='cuda:0')\n",
      "tensor(0.1210, device='cuda:0')\n",
      "tensor(0.1014, device='cuda:0')\n",
      "tensor(0.0877, device='cuda:0')\n",
      "tensor(0.0776, device='cuda:0')\n",
      "2 1\n",
      "0.0333333333333\n",
      "1 2\n",
      "2 1\n",
      "2 1\n",
      "2 1\n",
      "0.0333333333333\n"
     ]
    },
    {
     "name": "stderr",
     "output_type": "stream",
     "text": [
      "/home/cs18mtech11019/anaconda2/lib/python2.7/site-packages/torch/serialization.py:241: UserWarning: Couldn't retrieve source code for container of type neural_network. It won't be checked for correctness upon loading.\n",
      "  \"type \" + obj.__name__ + \". It won't be checked \"\n"
     ]
    }
   ],
   "source": [
    "# Shuffle Data\n",
    "indices = np.random.choice(len(X), len(X), replace=False)\n",
    "X_values = X[indices]\n",
    "y_values = y[indices]\n",
    "\n",
    "# Creating a Train and a Test Dataset\n",
    "test_size = 30\n",
    "X_test = X_values[-test_size:]\n",
    "X_train = X_values[:-test_size]\n",
    "\n",
    "scaler = MinMaxScaler()\n",
    "X_train = scaler.fit_transform(X_train)\n",
    "X_test = scaler.transform(X_test)\n",
    "\n",
    "joblib.dump(scaler, 'scaler.pkl') \n",
    "y_test = y_values[-test_size:]\n",
    "\n",
    "\n",
    "y_train = y_values[:-test_size]\n",
    "\n",
    "# Interval / Epochs\n",
    "interval = 50\n",
    "epoch = 500\n",
    "\n",
    "loss_func = nn.CrossEntropyLoss(weight=None, size_average=True, ignore_index=-100, reduce=True)\n",
    "\n",
    "# Input neurons : 4\n",
    "# Hidden neurons : 8\n",
    "# Output neurons : 3\n",
    "hidden_layer_nodes = 2\n",
    "model = neural_network(4,hidden_layer_nodes,3)\n",
    "\n",
    "weights, biases = [], []\n",
    "for name, p in model.named_parameters():\n",
    "    if 'bias' in name:\n",
    "        biases += [p]\n",
    "    else:\n",
    "        weights += [p]\n",
    "optimizer = optim.Adam([\n",
    "                {'params': weights},\n",
    "                {'params': biases}\n",
    "                ], lr = 0.0003, weight_decay=1e-5)\n",
    "\n",
    "for epoch in range(epoch): \n",
    "    loss_val = 0\n",
    "    for input_data in enumerate(X_train):\n",
    "        # Step 1. Remember that Pytorch accumulates gradients.\n",
    "        # We need to clear them out before each instance\n",
    "        model.zero_grad()\n",
    "\n",
    "        input_neurons_data = autograd.Variable(torch.cuda.FloatTensor(input_data[1]))\n",
    "\n",
    "        one_hot_target = y_train[input_data[0]]\n",
    "        target_class_index = int(np.where(one_hot_target == 1.0)[0])\n",
    "\n",
    "        target_class = autograd.Variable(torch.cuda.LongTensor([target_class_index]))\n",
    "        output = model(input_neurons_data)\n",
    "        \n",
    "        loss = loss_func(output.view(1,-1),target_class)\n",
    "        loss_val += loss\n",
    "\n",
    "        loss.backward()\n",
    "        optimizer.step()\n",
    "    if epoch%interval == 0:\n",
    "        print loss_val.data[0]/len(X_train)\n",
    "\n",
    "#torch.save(model, \"iris_model_2\")\n",
    "torch.save(model, \"iris_model_\" + str(hidden_layer_nodes))\n",
    "\n",
    "error = 0.0\n",
    "for i in range(len(X_test)):\n",
    "    predicted = np.argmax(np.array(model(autograd.Variable(torch.cuda.FloatTensor(X_test[i]))).data))\n",
    "    actual = int(np.where(y_test[i] == 1.0)[0])\n",
    "    if predicted != actual:\n",
    "        print predicted, actual\n",
    "        error += 1.0\n",
    "\n",
    "print error/len(X_test)\n",
    "\n",
    "error = 0.0\n",
    "for i in range(len(X_train)):\n",
    "    predicted = np.argmax(np.array(model(autograd.Variable(torch.cuda.FloatTensor(X_train[i]))).data))\n",
    "    actual = int(np.where(y_train[i] == 1.0)[0])\n",
    "    if predicted != actual:\n",
    "        print predicted, actual\n",
    "        error += 1.0\n",
    "\n",
    "print error/len(X_train)"
   ]
  }
 ],
 "metadata": {
  "kernelspec": {
   "display_name": "Python 2",
   "language": "python",
   "name": "python2"
  },
  "language_info": {
   "codemirror_mode": {
    "name": "ipython",
    "version": 2
   },
   "file_extension": ".py",
   "mimetype": "text/x-python",
   "name": "python",
   "nbconvert_exporter": "python",
   "pygments_lexer": "ipython2",
   "version": "2.7.15"
  }
 },
 "nbformat": 4,
 "nbformat_minor": 2
}
