{
 "cells": [
  {
   "cell_type": "code",
   "execution_count": 1,
   "metadata": {},
   "outputs": [],
   "source": [
    "import torch\n",
    "import torch.autograd as autograd\n",
    "import torch.nn as nn\n",
    "import torch.nn.functional as F\n",
    "import torch.optim as optim\n",
    "import pandas as pd\n",
    "torch.manual_seed(1)\n",
    "import os,csv,math, sys,joblib,copy,pickle\n",
    "import matplotlib.pyplot as plt\n",
    "import numpy as np\n",
    "import sklearn.model_selection, sklearn.preprocessing"
   ]
  },
  {
   "cell_type": "code",
   "execution_count": 2,
   "metadata": {},
   "outputs": [
    {
     "data": {
      "text/plain": [
       "<torch._C.Generator at 0x7f985c6fb6f0>"
      ]
     },
     "execution_count": 2,
     "metadata": {},
     "output_type": "execute_result"
    }
   ],
   "source": [
    "seed = 1\n",
    "np.random.seed(seed)\n",
    "torch.manual_seed(seed)"
   ]
  },
  {
   "cell_type": "code",
   "execution_count": 3,
   "metadata": {},
   "outputs": [],
   "source": [
    "dataset = pd.read_csv('Iris_Dataset.csv')"
   ]
  },
  {
   "cell_type": "code",
   "execution_count": 4,
   "metadata": {
    "collapsed": true
   },
   "outputs": [
    {
     "data": {
      "text/html": [
       "<div>\n",
       "<style scoped>\n",
       "    .dataframe tbody tr th:only-of-type {\n",
       "        vertical-align: middle;\n",
       "    }\n",
       "\n",
       "    .dataframe tbody tr th {\n",
       "        vertical-align: top;\n",
       "    }\n",
       "\n",
       "    .dataframe thead th {\n",
       "        text-align: right;\n",
       "    }\n",
       "</style>\n",
       "<table border=\"1\" class=\"dataframe\">\n",
       "  <thead>\n",
       "    <tr style=\"text-align: right;\">\n",
       "      <th></th>\n",
       "      <th>SepalLengthCm</th>\n",
       "      <th>SepalWidthCm</th>\n",
       "      <th>PetalLengthCm</th>\n",
       "      <th>PetalWidthCm</th>\n",
       "      <th>Species</th>\n",
       "    </tr>\n",
       "  </thead>\n",
       "  <tbody>\n",
       "    <tr>\n",
       "      <th>0</th>\n",
       "      <td>5.1</td>\n",
       "      <td>3.5</td>\n",
       "      <td>1.4</td>\n",
       "      <td>0.2</td>\n",
       "      <td>Iris-setosa</td>\n",
       "    </tr>\n",
       "    <tr>\n",
       "      <th>1</th>\n",
       "      <td>4.9</td>\n",
       "      <td>3.0</td>\n",
       "      <td>1.4</td>\n",
       "      <td>0.2</td>\n",
       "      <td>Iris-setosa</td>\n",
       "    </tr>\n",
       "    <tr>\n",
       "      <th>2</th>\n",
       "      <td>4.7</td>\n",
       "      <td>3.2</td>\n",
       "      <td>1.3</td>\n",
       "      <td>0.2</td>\n",
       "      <td>Iris-setosa</td>\n",
       "    </tr>\n",
       "    <tr>\n",
       "      <th>3</th>\n",
       "      <td>4.6</td>\n",
       "      <td>3.1</td>\n",
       "      <td>1.5</td>\n",
       "      <td>0.2</td>\n",
       "      <td>Iris-setosa</td>\n",
       "    </tr>\n",
       "    <tr>\n",
       "      <th>4</th>\n",
       "      <td>5.0</td>\n",
       "      <td>3.6</td>\n",
       "      <td>1.4</td>\n",
       "      <td>0.2</td>\n",
       "      <td>Iris-setosa</td>\n",
       "    </tr>\n",
       "  </tbody>\n",
       "</table>\n",
       "</div>"
      ],
      "text/plain": [
       "   SepalLengthCm  SepalWidthCm  PetalLengthCm  PetalWidthCm      Species\n",
       "0            5.1           3.5            1.4           0.2  Iris-setosa\n",
       "1            4.9           3.0            1.4           0.2  Iris-setosa\n",
       "2            4.7           3.2            1.3           0.2  Iris-setosa\n",
       "3            4.6           3.1            1.5           0.2  Iris-setosa\n",
       "4            5.0           3.6            1.4           0.2  Iris-setosa"
      ]
     },
     "execution_count": 4,
     "metadata": {},
     "output_type": "execute_result"
    }
   ],
   "source": [
    "dataset.head()"
   ]
  },
  {
   "cell_type": "code",
   "execution_count": 4,
   "metadata": {},
   "outputs": [],
   "source": [
    "dataset = pd.get_dummies(dataset, columns=['Species']) # One Hot Encoding\n",
    "values = list(dataset.columns.values)"
   ]
  },
  {
   "cell_type": "code",
   "execution_count": 6,
   "metadata": {
    "collapsed": true
   },
   "outputs": [
    {
     "data": {
      "text/html": [
       "<div>\n",
       "<style scoped>\n",
       "    .dataframe tbody tr th:only-of-type {\n",
       "        vertical-align: middle;\n",
       "    }\n",
       "\n",
       "    .dataframe tbody tr th {\n",
       "        vertical-align: top;\n",
       "    }\n",
       "\n",
       "    .dataframe thead th {\n",
       "        text-align: right;\n",
       "    }\n",
       "</style>\n",
       "<table border=\"1\" class=\"dataframe\">\n",
       "  <thead>\n",
       "    <tr style=\"text-align: right;\">\n",
       "      <th></th>\n",
       "      <th>SepalLengthCm</th>\n",
       "      <th>SepalWidthCm</th>\n",
       "      <th>PetalLengthCm</th>\n",
       "      <th>PetalWidthCm</th>\n",
       "      <th>Species_Iris-setosa</th>\n",
       "      <th>Species_Iris-versicolor</th>\n",
       "      <th>Species_Iris-virginica</th>\n",
       "    </tr>\n",
       "  </thead>\n",
       "  <tbody>\n",
       "    <tr>\n",
       "      <th>0</th>\n",
       "      <td>5.1</td>\n",
       "      <td>3.5</td>\n",
       "      <td>1.4</td>\n",
       "      <td>0.2</td>\n",
       "      <td>1</td>\n",
       "      <td>0</td>\n",
       "      <td>0</td>\n",
       "    </tr>\n",
       "    <tr>\n",
       "      <th>1</th>\n",
       "      <td>4.9</td>\n",
       "      <td>3.0</td>\n",
       "      <td>1.4</td>\n",
       "      <td>0.2</td>\n",
       "      <td>1</td>\n",
       "      <td>0</td>\n",
       "      <td>0</td>\n",
       "    </tr>\n",
       "    <tr>\n",
       "      <th>2</th>\n",
       "      <td>4.7</td>\n",
       "      <td>3.2</td>\n",
       "      <td>1.3</td>\n",
       "      <td>0.2</td>\n",
       "      <td>1</td>\n",
       "      <td>0</td>\n",
       "      <td>0</td>\n",
       "    </tr>\n",
       "    <tr>\n",
       "      <th>3</th>\n",
       "      <td>4.6</td>\n",
       "      <td>3.1</td>\n",
       "      <td>1.5</td>\n",
       "      <td>0.2</td>\n",
       "      <td>1</td>\n",
       "      <td>0</td>\n",
       "      <td>0</td>\n",
       "    </tr>\n",
       "    <tr>\n",
       "      <th>4</th>\n",
       "      <td>5.0</td>\n",
       "      <td>3.6</td>\n",
       "      <td>1.4</td>\n",
       "      <td>0.2</td>\n",
       "      <td>1</td>\n",
       "      <td>0</td>\n",
       "      <td>0</td>\n",
       "    </tr>\n",
       "  </tbody>\n",
       "</table>\n",
       "</div>"
      ],
      "text/plain": [
       "   SepalLengthCm  SepalWidthCm  PetalLengthCm  PetalWidthCm  \\\n",
       "0            5.1           3.5            1.4           0.2   \n",
       "1            4.9           3.0            1.4           0.2   \n",
       "2            4.7           3.2            1.3           0.2   \n",
       "3            4.6           3.1            1.5           0.2   \n",
       "4            5.0           3.6            1.4           0.2   \n",
       "\n",
       "   Species_Iris-setosa  Species_Iris-versicolor  Species_Iris-virginica  \n",
       "0                    1                        0                       0  \n",
       "1                    1                        0                       0  \n",
       "2                    1                        0                       0  \n",
       "3                    1                        0                       0  \n",
       "4                    1                        0                       0  "
      ]
     },
     "execution_count": 6,
     "metadata": {},
     "output_type": "execute_result"
    }
   ],
   "source": [
    "dataset.head()"
   ]
  },
  {
   "cell_type": "markdown",
   "metadata": {},
   "source": [
    "values"
   ]
  },
  {
   "cell_type": "code",
   "execution_count": 5,
   "metadata": {},
   "outputs": [],
   "source": [
    "y = dataset[values[-3:]]\n",
    "y = np.array(y, dtype='float32')\n",
    "#y"
   ]
  },
  {
   "cell_type": "code",
   "execution_count": 6,
   "metadata": {
    "scrolled": true
   },
   "outputs": [
    {
     "name": "stdout",
     "output_type": "stream",
     "text": [
      "   SepalLengthCm  SepalWidthCm  PetalLengthCm  PetalWidthCm\n",
      "0            5.1           3.5            1.4           0.2\n",
      "1            4.9           3.0            1.4           0.2\n",
      "2            4.7           3.2            1.3           0.2\n",
      "3            4.6           3.1            1.5           0.2\n",
      "4            5.0           3.6            1.4           0.2\n"
     ]
    }
   ],
   "source": [
    "X = dataset[values[:-3]]\n",
    "print X.head()\n",
    "X = np.array(X, dtype='float32')"
   ]
  },
  {
   "cell_type": "code",
   "execution_count": 7,
   "metadata": {},
   "outputs": [
    {
     "data": {
      "text/plain": [
       "(4, 4)"
      ]
     },
     "execution_count": 7,
     "metadata": {},
     "output_type": "execute_result"
    }
   ],
   "source": [
    "mean_vector=np.mean(X,axis=0)\n",
    "#means.shape#4\n",
    "cov=np.cov(X.T)\n",
    "cov.shape"
   ]
  },
  {
   "cell_type": "markdown",
   "metadata": {},
   "source": [
    "X = dataset[values[1:-3]]\n",
    "print X.head()\n",
    "X = np.array(X, dtype='float32')"
   ]
  },
  {
   "cell_type": "markdown",
   "metadata": {},
   "source": [
    "?BUT WHY IS THIS NOT INCLUDING 1ST COLUMN THAT IS sepalLenghtcm?"
   ]
  },
  {
   "cell_type": "code",
   "execution_count": 8,
   "metadata": {},
   "outputs": [],
   "source": [
    "indices = np.random.choice(len(X), len(X), replace=False)\n",
    "X_values = X[indices]\n",
    "\n",
    "scaler = joblib.load('scaler.pkl') \n",
    "X_values = scaler.transform(X_values)\n",
    "y_values = y[indices]"
   ]
  },
  {
   "cell_type": "markdown",
   "metadata": {},
   "source": [
    "for class_i in range(0, 3):\n",
    "    print(np.array([feature_vector[1] for feature_vector in enumerate(X_values) if np.where(y_values[feature_vector[0]] == 1.0)[0] == class_i]).shape)"
   ]
  },
  {
   "cell_type": "markdown",
   "metadata": {},
   "source": [
    "?Should we really divide the data according to class?"
   ]
  },
  {
   "cell_type": "markdown",
   "metadata": {},
   "source": [
    "means = []\n",
    "cov= []\n",
    "for class_i in range(3):\n",
    "    temp = np.array([feature_vector[1] for feature_vector in enumerate(X_values) if np.where(y_values[feature_vector[0]] == 1.0)[0] == class_i])\n",
    "    #temp has data for a given class\n",
    "    means.append(temp.mean(axis=0))\n",
    "    cov.append(np.cov(temp))\n",
    "means = np.array(means)\n",
    "\n",
    "class_name = {0:\"Iris-setosa\",1:\"Iris-versicolor\",2:\"Iris-virginica\"}\n",
    "feature_name = {0:\"SepalLengthCm\",1:\"SepalWidthCm\",2:\"PetalLengthCm\",3:\"PetalWidthCm\",4:\"Species\"}"
   ]
  },
  {
   "cell_type": "code",
   "execution_count": 9,
   "metadata": {},
   "outputs": [],
   "source": [
    "class neural_network(nn.Module):\n",
    "    def __init__(self, num_input, num_hidden,num_output):\n",
    "        super(neural_network, self).__init__()\n",
    "        self.hidden = nn.Linear(num_input,num_hidden).cuda()\n",
    "        self.out = nn.Linear(num_hidden,num_output).cuda()\n",
    "\n",
    "    def forward(self, x):\n",
    "        x = F.relu(self.hidden(x))\n",
    "        return self.out(x)"
   ]
  },
  {
   "cell_type": "code",
   "execution_count": 10,
   "metadata": {
    "scrolled": false
   },
   "outputs": [],
   "source": [
    "model = torch.load(\"iris_model_2\").cpu()"
   ]
  },
  {
   "cell_type": "code",
   "execution_count": 27,
   "metadata": {
    "collapsed": true
   },
   "outputs": [
    {
     "name": "stdout",
     "output_type": "stream",
     "text": [
      "neural_network(\n",
      "  (hidden): Linear(in_features=3, out_features=2, bias=True)\n",
      "  (hidden_2): Linear(in_features=2, out_features=2, bias=True)\n",
      "  (out): Linear(in_features=2, out_features=3, bias=True)\n",
      ")\n"
     ]
    }
   ],
   "source": [
    "print model"
   ]
  },
  {
   "cell_type": "code",
   "execution_count": 11,
   "metadata": {},
   "outputs": [],
   "source": [
    "n_classes=3\n",
    "num_c=4#no. of features\n",
    "num_alpha=100\n",
    "\n",
    "for output_index in range(0,n_classes):\n",
    "    for t in range(0,num_c):\n",
    "        expected_value = 0.0\n",
    "        counter = 1\n",
    "        expectation_do_x = []\n",
    "        baseline_expectation_do_x = []\n",
    "        inp=copy.deepcopy(mean_vector)\n",
    "        \n",
    "        for x in np.linspace(0, 1, num_alpha):\n",
    "            inp[t] = x\n",
    "            input_torchvar = autograd.Variable(torch.FloatTensor(inp), requires_grad=True)\n",
    "            \n",
    "            output=F.softmax(model(input_torchvar), dim=-1) \n",
    "            o1=output.data.cpu()\n",
    "            val=o1.numpy()[output_index]                                              \n",
    "            grad_mask_gradient = torch.zeros(n_classes)\n",
    "            grad_mask_gradient[output_index] = 1.0\n",
    "            #calculating the hessian\n",
    "            first_grads = torch.autograd.grad(output.cpu(), input_torchvar.cpu(), grad_outputs=grad_mask_gradient, retain_graph=True, create_graph=True)\n",
    "\n",
    "            for dimension in range(num_c):#Hessian*Covariance\n",
    "                if dimension == t:\n",
    "                        continue\n",
    "                temp_cov = copy.deepcopy(cov)\n",
    "                temp_cov[dimension][t] = 0.0\n",
    "                grad_mask_hessian = torch.zeros(num_c)#SHOULD IT BE num_classes\n",
    "                grad_mask_hessian[dimension] = 1.0\n",
    "\n",
    "                #calculating the hessian\n",
    "                hessian = torch.autograd.grad(first_grads, input_torchvar, grad_outputs=grad_mask_hessian, retain_graph=True, create_graph=False)\n",
    "\n",
    "                val += np.sum(0.5*hessian[0].data.numpy()*temp_cov[dimension])  #Has interventional expectations of x on y for an alpha\n",
    "            expectation_do_x.append(val)\n",
    "\n",
    "            expected_value += (1.0/counter)*(val - expected_value)\n",
    "            counter += 1\n",
    "        baseline_expectation_do_x.append(expected_value)\n",
    "        with open('ACE/expectation_do_x_for_cause_'+str(t) + \"_and_effect_\" + str(output_index), 'wb') as fp:\n",
    "            pickle.dump(expectation_do_x, fp)\n",
    "        with open('ACE/baseline_expectation_do_x_for_cause_'+str(t) + \"_and_effect_\" + str(output_index), 'wb') as fp:\n",
    "            pickle.dump(baseline_expectation_do_x, fp)"
   ]
  },
  {
   "cell_type": "code",
   "execution_count": 35,
   "metadata": {},
   "outputs": [],
   "source": [
    "import sys"
   ]
  },
  {
   "cell_type": "markdown",
   "metadata": {},
   "source": [
    "def causal_strength(model, feature_index, output_index, mean_data, cov_data,start,end):\n",
    "    input_data = mean_data\n",
    "    #print input_data.shape\n",
    "    model.zero_grad()\n",
    "\n",
    "    input_torchvar = autograd.Variable(torch.FloatTensor(input_data), requires_grad=True)\n",
    "\n",
    "    output_2 = model(input_torchvar)\t\n",
    "\n",
    "    grad_mask = torch.zeros(output_2.size()).type(torch.FloatTensor)\n",
    "\n",
    "    grad_mask[output_index] = 1.0\n",
    "\n",
    "    first_grads = torch.autograd.grad(output_2, input_torchvar, grad_outputs=grad_mask, retain_graph=True, create_graph=True, only_inputs=True, allow_unused=False)\n",
    "\n",
    "    feature_index = (feature_index)\n",
    "    #print feature_index\n",
    "\n",
    "    causal_effect =  float(first_grads[0][feature_index].data)\n",
    "\n",
    "    #print causal_effect\n",
    "    #calculating the hessian (selective-terms-only)\n",
    "    first_grad_shape = first_grads[0].data.size()\n",
    "\n",
    "    grad_mask = torch.zeros(first_grad_shape)\n",
    "    grad_mask[feature_index] = 1.0\n",
    "\n",
    "    second_grads = torch.autograd.grad(first_grads, input_torchvar, grad_outputs=grad_mask, retain_graph=True, create_graph=True, only_inputs=True, allow_unused=False) \n",
    "    second_grads_array = np.array(second_grads[0].data)\t\n",
    "\n",
    "    causal_effect -=  float(second_grads[0][feature_index].data)*mean_data[feature_index]\n",
    "    #print causal_effect\n",
    "\n",
    "    causal_effect_x = float(second_grads[0].data[feature_index])\n",
    "    #print \"x\", causal_effect_x\n",
    "\n",
    "    class_name = {0:\"Iris-setosa\", 1:\"Iris-versicolor\", 2:\"Iris-virginica\"}\n",
    "\n",
    "    grad_mask = torch.zeros(first_grad_shape)\n",
    "    grad_mask[feature_index] = 1.0\n",
    "\n",
    "    third_grads = torch.autograd.grad(second_grads, input_torchvar, grad_outputs=grad_mask, retain_graph=True, create_graph=True, only_inputs=True, allow_unused=False)  \n",
    "\n",
    "\n",
    "    third_grads_array = np.array(third_grads[0].data)\n",
    "\n",
    "    causal_effect += 0.5*float(third_grads_array[feature_index])*mean_data[feature_index]*mean_data[feature_index] \n",
    "    causal_effect_x -= third_grads_array[feature_index]*mean_data[feature_index]\n",
    "    causal_effect_x_2 = 0.5*float(third_grads_array[feature_index])\n",
    "\n",
    "\n",
    "    grad_mask = torch.zeros(first_grad_shape)\n",
    "    grad_mask[feature_index] = 1.0\n",
    "\n",
    "    fourth_grads = torch.autograd.grad(third_grads, input_torchvar, grad_outputs=grad_mask, retain_graph=True, create_graph=True, only_inputs=True, allow_unused=False)\n",
    "\n",
    "    print(fourth_grads)\n",
    "    \n",
    "    fourth_grads_array = np.array(fourth_grads[0].data)\n",
    "\n",
    "    #cov_temp_array = cov_data[i*first_grad_shape[1] + j].reshape(third_grads_array.shape)\t\t\t \n",
    "    #cov_temp_array[feature_index] = 0.0\n",
    "\n",
    "    causal_effect -= (1.0/6.0)*float(fourth_grads_array[feature_index])*mean_data[feature_index]*mean_data[feature_index]*mean_data[feature_index] \n",
    "    causal_effect_x += (0.5)*float(fourth_grads_array[feature_index])*mean_data[feature_index]*mean_data[feature_index]\n",
    "    causal_effect_x_2 -= 0.5*float(fourth_grads_array[feature_index])*mean_data[feature_index]\n",
    "    causal_effect_x_3 = (1.0/6.0)*float(fourth_grads_array[feature_index])\n",
    "\n",
    "\n",
    "\n",
    "    grad_mask = torch.zeros(first_grad_shape)\n",
    "    grad_mask[feature_index] = 1.0\n",
    "\n",
    "    fifth_grads = torch.autograd.grad(fourth_grads, input_torchvar, grad_outputs=grad_mask, retain_graph=True, create_graph=True, only_inputs=True, allow_unused=False)  \n",
    "\n",
    "\n",
    "    fifth_grads_array = np.array(fifth_grads[0].data)\n",
    "\n",
    "    causal_effect += ((1.0/24.0)*float(fifth_grads_array[feature_index])*mean_data[feature_index]*mean_data[feature_index]*mean_data[feature_index]*mean_data[feature_index]) + ((1.0/6.0)*float(fifth_grads_array[feature_index])*mean_data[feature_index]*mean_data[feature_index]) + ((1.0/6.0)*float(fifth_grads_array[feature_index])*mean_data[feature_index]*mean_data[feature_index]) \n",
    "    causal_effect_x += (0.5)*float(fifth_grads_array[feature_index])*mean_data[feature_index]*mean_data[feature_index]\n",
    "    causal_effect_x_2 -= 0.5*float(fifth_grads_array[feature_index])*mean_data[feature_index]\n",
    "    causal_effect_x_3 = (1.0/6.0)*float(fifth_grads_array[feature_index])\n",
    "    causal_effect_x_4 = (1.0/24.0)*float(fifth_grads_array[feature_index])\n",
    "\n",
    "\n",
    "    grad_mask = torch.zeros(first_grad_shape)\n",
    "    grad_mask[feature_index] = 1.0\n",
    "\n",
    "    sixth_grads = torch.autograd.grad(fifth_grads, input_torchvar, grad_outputs=grad_mask, retain_graph=True, create_graph=True, only_inputs=True, allow_unused=False)  \n",
    "\n",
    "\n",
    "    sixth_grads_array = np.array(sixth_grads[0].data)\n",
    "\n",
    "    grad_mask = torch.zeros(first_grad_shape)\n",
    "    grad_mask[feature_index] = 1.0\n",
    "\n",
    "    seventh_grads = torch.autograd.grad(sixth_grads, input_torchvar, grad_outputs=grad_mask, retain_graph=True, create_graph=True, only_inputs=True, allow_unused=False)  \n",
    "\n",
    "\n",
    "    seventh_grads_array = np.array(seventh_grads[0].data)\n",
    "\n",
    "\n",
    "    grad_mask = torch.zeros(first_grad_shape)\n",
    "    grad_mask[feature_index] = 1.0\n",
    "\n",
    "    eight_grads = torch.autograd.grad(seventh_grads, input_torchvar, grad_outputs=grad_mask, retain_graph=True, create_graph=False, only_inputs=True, allow_unused=False)  \n",
    "\n",
    "\n",
    "    eight_grads_array = np.array(eight_grads[0].data)\n",
    "\n",
    "\n",
    "    print causal_effect_x_4, \"x^4 +\", causal_effect_x_3, \"x^3 +\", causal_effect_x_2, \"x^2 +\", causal_effect_x, \"x +\", causal_effect\n",
    "    plt.plot(np.linspace(start,end,100), np.array([(lambda x, a: float(first_grads[0][feature_index].data) + second_grads_array[feature_index]*(x - a) + ((1.0/2.0)*third_grads_array[feature_index]*(x - a)**2) + ((1.0/6.0)*fourth_grads_array[feature_index]*(x - a)**3) + ((1.0/24.0)*fifth_grads_array[feature_index]*(x - a)**4) + ((1.0/120.0)*sixth_grads_array[feature_index]*(x - a)**5) + ((1.0/720.0)*seventh_grads_array[feature_index]*(x - a)**6) + ((1.0/5040.0)*eight_grads_array[feature_index]*(x - a)**7))(val, mean_data[feature_index]) for val in np.linspace(start,end,100)]), label=\"feature \" + str(feature_index))\n",
    "\n",
    "    #plt.plot(np.linspace(start,end,100), np.array([(lambda x: causal_effect_x_2*(x**2) + causal_effect_x*x + causal_effect)(val) for val in np.linspace(start,end,100)]), label=\"class \" + str(class_name[effect]))\n",
    "    plt.legend()\n",
    "\n",
    "\n",
    "for class_ind in range(3):\n",
    "    effect = (class_ind)\n",
    "    for feature_index in range(means.shape[1]):\n",
    "        causal_factor = (feature_index)\n",
    "        start = 0.0 #feature_start[feature_index][0]\n",
    "        end = 1.0 #feature_start[feature_index][1]\n",
    "        #print \"Causal strength of\", causal_factor, \"for class\", effect, \":\",\n",
    "        print effect, means[effect]\n",
    "        causal_strength(model, feature_index=causal_factor, output_index = effect, mean_data = means[effect], cov_data = np.array(cov), start=start, end=end)\n",
    "    plt.ylabel(\"causal strength on class label\")\n",
    "    plt.xlabel(\"value of cause variable\")\n",
    "    plt.title(class_name[effect])\n",
    "    plt.savefig(str(class_name[effect]) + \"_double_\" + sys.argv[1] + \".png\", dpi=300)\n",
    "    #plt.savefig(str(feature_name[feature_index]) + \".png\", dpi=300)\n",
    "    #plt.show()\n",
    "    plt.clf()    "
   ]
  }
 ],
 "metadata": {
  "kernelspec": {
   "display_name": "Python 2",
   "language": "python",
   "name": "python2"
  },
  "language_info": {
   "codemirror_mode": {
    "name": "ipython",
    "version": 2
   },
   "file_extension": ".py",
   "mimetype": "text/x-python",
   "name": "python",
   "nbconvert_exporter": "python",
   "pygments_lexer": "ipython2",
   "version": "2.7.15"
  }
 },
 "nbformat": 4,
 "nbformat_minor": 2
}
