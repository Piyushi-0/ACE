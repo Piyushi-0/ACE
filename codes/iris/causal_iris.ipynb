{
  "nbformat": 4,
  "nbformat_minor": 0,
  "metadata": {
    "colab": {
      "name": "causal_iris.ipynb",
      "version": "0.3.2",
      "provenance": [],
      "collapsed_sections": []
    },
    "language_info": {
      "codemirror_mode": {
        "name": "ipython",
        "version": 2
      },
      "file_extension": ".py",
      "mimetype": "text/x-python",
      "name": "python",
      "nbconvert_exporter": "python",
      "pygments_lexer": "ipython2",
      "version": "2.7.15"
    },
    "kernelspec": {
      "display_name": "Python 2",
      "language": "python",
      "name": "python2"
    }
  },
  "cells": [
    {
      "cell_type": "code",
      "metadata": {
        "id": "UY_O2eW2hG51",
        "colab_type": "code",
        "colab": {}
      },
      "source": [
        "import torch\n",
        "import torch.autograd as autograd\n",
        "import torch.nn as nn\n",
        "import torch.nn.functional as F\n",
        "import torch.optim as optim\n",
        "import pandas as pd\n",
        "torch.manual_seed(1)\n",
        "import os,csv,math, sys,joblib,copy,pickle\n",
        "import matplotlib.pyplot as plt\n",
        "import numpy as np\n",
        "import sklearn.model_selection, sklearn.preprocessing"
      ],
      "execution_count": 0,
      "outputs": []
    },
    {
      "cell_type": "code",
      "metadata": {
        "id": "kpJdmVdxhG6O",
        "colab_type": "code",
        "outputId": "75345fa2-f07a-4281-ec35-4dbad3e6cffa",
        "colab": {}
      },
      "source": [
        "seed = 1\n",
        "np.random.seed(seed)\n",
        "torch.manual_seed(seed)"
      ],
      "execution_count": 0,
      "outputs": [
        {
          "output_type": "execute_result",
          "data": {
            "text/plain": [
              "<torch._C.Generator at 0x7f985c6fb6f0>"
            ]
          },
          "metadata": {
            "tags": []
          },
          "execution_count": 2
        }
      ]
    },
    {
      "cell_type": "code",
      "metadata": {
        "id": "f-8NvfA_hG6j",
        "colab_type": "code",
        "colab": {}
      },
      "source": [
        "dataset = pd.read_csv('Iris_Dataset.csv')"
      ],
      "execution_count": 0,
      "outputs": []
    },
    {
      "cell_type": "code",
      "metadata": {
        "collapsed": true,
        "id": "8AZekYr3hG6u",
        "colab_type": "code",
        "outputId": "e74a8913-b370-430f-b0f7-c8a9d2100eb5",
        "colab": {}
      },
      "source": [
        "dataset.head()"
      ],
      "execution_count": 0,
      "outputs": [
        {
          "output_type": "execute_result",
          "data": {
            "text/html": [
              "<div>\n",
              "<style scoped>\n",
              "    .dataframe tbody tr th:only-of-type {\n",
              "        vertical-align: middle;\n",
              "    }\n",
              "\n",
              "    .dataframe tbody tr th {\n",
              "        vertical-align: top;\n",
              "    }\n",
              "\n",
              "    .dataframe thead th {\n",
              "        text-align: right;\n",
              "    }\n",
              "</style>\n",
              "<table border=\"1\" class=\"dataframe\">\n",
              "  <thead>\n",
              "    <tr style=\"text-align: right;\">\n",
              "      <th></th>\n",
              "      <th>SepalLengthCm</th>\n",
              "      <th>SepalWidthCm</th>\n",
              "      <th>PetalLengthCm</th>\n",
              "      <th>PetalWidthCm</th>\n",
              "      <th>Species</th>\n",
              "    </tr>\n",
              "  </thead>\n",
              "  <tbody>\n",
              "    <tr>\n",
              "      <th>0</th>\n",
              "      <td>5.1</td>\n",
              "      <td>3.5</td>\n",
              "      <td>1.4</td>\n",
              "      <td>0.2</td>\n",
              "      <td>Iris-setosa</td>\n",
              "    </tr>\n",
              "    <tr>\n",
              "      <th>1</th>\n",
              "      <td>4.9</td>\n",
              "      <td>3.0</td>\n",
              "      <td>1.4</td>\n",
              "      <td>0.2</td>\n",
              "      <td>Iris-setosa</td>\n",
              "    </tr>\n",
              "    <tr>\n",
              "      <th>2</th>\n",
              "      <td>4.7</td>\n",
              "      <td>3.2</td>\n",
              "      <td>1.3</td>\n",
              "      <td>0.2</td>\n",
              "      <td>Iris-setosa</td>\n",
              "    </tr>\n",
              "    <tr>\n",
              "      <th>3</th>\n",
              "      <td>4.6</td>\n",
              "      <td>3.1</td>\n",
              "      <td>1.5</td>\n",
              "      <td>0.2</td>\n",
              "      <td>Iris-setosa</td>\n",
              "    </tr>\n",
              "    <tr>\n",
              "      <th>4</th>\n",
              "      <td>5.0</td>\n",
              "      <td>3.6</td>\n",
              "      <td>1.4</td>\n",
              "      <td>0.2</td>\n",
              "      <td>Iris-setosa</td>\n",
              "    </tr>\n",
              "  </tbody>\n",
              "</table>\n",
              "</div>"
            ],
            "text/plain": [
              "   SepalLengthCm  SepalWidthCm  PetalLengthCm  PetalWidthCm      Species\n",
              "0            5.1           3.5            1.4           0.2  Iris-setosa\n",
              "1            4.9           3.0            1.4           0.2  Iris-setosa\n",
              "2            4.7           3.2            1.3           0.2  Iris-setosa\n",
              "3            4.6           3.1            1.5           0.2  Iris-setosa\n",
              "4            5.0           3.6            1.4           0.2  Iris-setosa"
            ]
          },
          "metadata": {
            "tags": []
          },
          "execution_count": 4
        }
      ]
    },
    {
      "cell_type": "code",
      "metadata": {
        "id": "YvqAOI0jhG6-",
        "colab_type": "code",
        "colab": {}
      },
      "source": [
        "dataset = pd.get_dummies(dataset, columns=['Species']) # One Hot Encoding\n",
        "values = list(dataset.columns.values)"
      ],
      "execution_count": 0,
      "outputs": []
    },
    {
      "cell_type": "code",
      "metadata": {
        "collapsed": true,
        "id": "Po6BDdZChG7G",
        "colab_type": "code",
        "outputId": "d2c402ce-ce0f-4c06-8506-e86a122d96cc",
        "colab": {}
      },
      "source": [
        "dataset.head()"
      ],
      "execution_count": 0,
      "outputs": [
        {
          "output_type": "execute_result",
          "data": {
            "text/html": [
              "<div>\n",
              "<style scoped>\n",
              "    .dataframe tbody tr th:only-of-type {\n",
              "        vertical-align: middle;\n",
              "    }\n",
              "\n",
              "    .dataframe tbody tr th {\n",
              "        vertical-align: top;\n",
              "    }\n",
              "\n",
              "    .dataframe thead th {\n",
              "        text-align: right;\n",
              "    }\n",
              "</style>\n",
              "<table border=\"1\" class=\"dataframe\">\n",
              "  <thead>\n",
              "    <tr style=\"text-align: right;\">\n",
              "      <th></th>\n",
              "      <th>SepalLengthCm</th>\n",
              "      <th>SepalWidthCm</th>\n",
              "      <th>PetalLengthCm</th>\n",
              "      <th>PetalWidthCm</th>\n",
              "      <th>Species_Iris-setosa</th>\n",
              "      <th>Species_Iris-versicolor</th>\n",
              "      <th>Species_Iris-virginica</th>\n",
              "    </tr>\n",
              "  </thead>\n",
              "  <tbody>\n",
              "    <tr>\n",
              "      <th>0</th>\n",
              "      <td>5.1</td>\n",
              "      <td>3.5</td>\n",
              "      <td>1.4</td>\n",
              "      <td>0.2</td>\n",
              "      <td>1</td>\n",
              "      <td>0</td>\n",
              "      <td>0</td>\n",
              "    </tr>\n",
              "    <tr>\n",
              "      <th>1</th>\n",
              "      <td>4.9</td>\n",
              "      <td>3.0</td>\n",
              "      <td>1.4</td>\n",
              "      <td>0.2</td>\n",
              "      <td>1</td>\n",
              "      <td>0</td>\n",
              "      <td>0</td>\n",
              "    </tr>\n",
              "    <tr>\n",
              "      <th>2</th>\n",
              "      <td>4.7</td>\n",
              "      <td>3.2</td>\n",
              "      <td>1.3</td>\n",
              "      <td>0.2</td>\n",
              "      <td>1</td>\n",
              "      <td>0</td>\n",
              "      <td>0</td>\n",
              "    </tr>\n",
              "    <tr>\n",
              "      <th>3</th>\n",
              "      <td>4.6</td>\n",
              "      <td>3.1</td>\n",
              "      <td>1.5</td>\n",
              "      <td>0.2</td>\n",
              "      <td>1</td>\n",
              "      <td>0</td>\n",
              "      <td>0</td>\n",
              "    </tr>\n",
              "    <tr>\n",
              "      <th>4</th>\n",
              "      <td>5.0</td>\n",
              "      <td>3.6</td>\n",
              "      <td>1.4</td>\n",
              "      <td>0.2</td>\n",
              "      <td>1</td>\n",
              "      <td>0</td>\n",
              "      <td>0</td>\n",
              "    </tr>\n",
              "  </tbody>\n",
              "</table>\n",
              "</div>"
            ],
            "text/plain": [
              "   SepalLengthCm  SepalWidthCm  PetalLengthCm  PetalWidthCm  \\\n",
              "0            5.1           3.5            1.4           0.2   \n",
              "1            4.9           3.0            1.4           0.2   \n",
              "2            4.7           3.2            1.3           0.2   \n",
              "3            4.6           3.1            1.5           0.2   \n",
              "4            5.0           3.6            1.4           0.2   \n",
              "\n",
              "   Species_Iris-setosa  Species_Iris-versicolor  Species_Iris-virginica  \n",
              "0                    1                        0                       0  \n",
              "1                    1                        0                       0  \n",
              "2                    1                        0                       0  \n",
              "3                    1                        0                       0  \n",
              "4                    1                        0                       0  "
            ]
          },
          "metadata": {
            "tags": []
          },
          "execution_count": 6
        }
      ]
    },
    {
      "cell_type": "markdown",
      "metadata": {
        "id": "Oq16tC3nhG7T",
        "colab_type": "text"
      },
      "source": [
        "values"
      ]
    },
    {
      "cell_type": "code",
      "metadata": {
        "id": "He2kvWqChG7X",
        "colab_type": "code",
        "colab": {}
      },
      "source": [
        "y = dataset[values[-3:]]\n",
        "y = np.array(y, dtype='float32')\n",
        "#y"
      ],
      "execution_count": 0,
      "outputs": []
    },
    {
      "cell_type": "code",
      "metadata": {
        "scrolled": true,
        "id": "qDbOR_WihG7i",
        "colab_type": "code",
        "outputId": "a96154e8-5292-4c59-c462-d233b2edb4a9",
        "colab": {}
      },
      "source": [
        "X = dataset[values[:-3]]\n",
        "print X.head()\n",
        "X = np.array(X, dtype='float32')"
      ],
      "execution_count": 0,
      "outputs": [
        {
          "output_type": "stream",
          "text": [
            "   SepalLengthCm  SepalWidthCm  PetalLengthCm  PetalWidthCm\n",
            "0            5.1           3.5            1.4           0.2\n",
            "1            4.9           3.0            1.4           0.2\n",
            "2            4.7           3.2            1.3           0.2\n",
            "3            4.6           3.1            1.5           0.2\n",
            "4            5.0           3.6            1.4           0.2\n"
          ],
          "name": "stdout"
        }
      ]
    },
    {
      "cell_type": "code",
      "metadata": {
        "id": "7Qt4PUe7hG7y",
        "colab_type": "code",
        "outputId": "54b4a16e-0d1b-4918-cf96-198b9cd4258f",
        "colab": {}
      },
      "source": [
        "mean_vector=np.mean(X,axis=0)\n",
        "#means.shape#4\n",
        "cov=np.cov(X.T)\n",
        "cov.shape"
      ],
      "execution_count": 0,
      "outputs": [
        {
          "output_type": "execute_result",
          "data": {
            "text/plain": [
              "(4, 4)"
            ]
          },
          "metadata": {
            "tags": []
          },
          "execution_count": 7
        }
      ]
    },
    {
      "cell_type": "code",
      "metadata": {
        "id": "4XCwcQj1hG8G",
        "colab_type": "code",
        "colab": {}
      },
      "source": [
        "indices = np.random.choice(len(X), len(X), replace=False)\n",
        "X_values = X[indices]\n",
        "\n",
        "scaler = joblib.load('scaler.pkl') \n",
        "X_values = scaler.transform(X_values)\n",
        "y_values = y[indices]"
      ],
      "execution_count": 0,
      "outputs": []
    },
    {
      "cell_type": "code",
      "metadata": {
        "id": "nfXqLmPShG8W",
        "colab_type": "code",
        "colab": {}
      },
      "source": [
        "class neural_network(nn.Module):\n",
        "    def __init__(self, num_input, num_hidden,num_output):\n",
        "        super(neural_network, self).__init__()\n",
        "        self.hidden = nn.Linear(num_input,num_hidden).cuda()\n",
        "        self.out = nn.Linear(num_hidden,num_output).cuda()\n",
        "\n",
        "    def forward(self, x):\n",
        "        x = F.relu(self.hidden(x))\n",
        "        return self.out(x)"
      ],
      "execution_count": 0,
      "outputs": []
    },
    {
      "cell_type": "code",
      "metadata": {
        "scrolled": false,
        "id": "6azmCYBMhG8f",
        "colab_type": "code",
        "colab": {}
      },
      "source": [
        "model = torch.load(\"iris_model_2\").cpu()"
      ],
      "execution_count": 0,
      "outputs": []
    },
    {
      "cell_type": "code",
      "metadata": {
        "id": "lEFrY_ADhG80",
        "colab_type": "code",
        "colab": {}
      },
      "source": [
        "n_classes=3\n",
        "num_c=4#no. of features\n",
        "num_alpha=100\n",
        "\n",
        "for output_index in range(0,n_classes):\n",
        "    for t in range(0,num_c):\n",
        "        expected_value = 0.0\n",
        "        counter = 1\n",
        "        expectation_do_x = []\n",
        "        baseline_expectation_do_x = []\n",
        "        inp=copy.deepcopy(mean_vector)\n",
        "        \n",
        "        for x in np.linspace(0, 1, num_alpha):\n",
        "            inp[t] = x\n",
        "            input_torchvar = autograd.Variable(torch.FloatTensor(inp), requires_grad=True)\n",
        "            \n",
        "            output=F.softmax(model(input_torchvar), dim=-1) \n",
        "            o1=output.data.cpu()\n",
        "            val=o1.numpy()[output_index]                                              \n",
        "            grad_mask_gradient = torch.zeros(n_classes)\n",
        "            grad_mask_gradient[output_index] = 1.0\n",
        "            #calculating the hessian\n",
        "            first_grads = torch.autograd.grad(output.cpu(), input_torchvar.cpu(), grad_outputs=grad_mask_gradient, retain_graph=True, create_graph=True)\n",
        "\n",
        "            for dimension in range(num_c):#Hessian*Covariance\n",
        "                if dimension == t:\n",
        "                        continue\n",
        "                temp_cov = copy.deepcopy(cov)\n",
        "                temp_cov[dimension][t] = 0.0\n",
        "                grad_mask_hessian = torch.zeros(num_c)#SHOULD IT BE num_classes\n",
        "                grad_mask_hessian[dimension] = 1.0\n",
        "\n",
        "                #calculating the hessian\n",
        "                hessian = torch.autograd.grad(first_grads, input_torchvar, grad_outputs=grad_mask_hessian, retain_graph=True, create_graph=False)\n",
        "\n",
        "                val += np.sum(0.5*hessian[0].data.numpy()*temp_cov[dimension])  #Has interventional expectations of x on y for an alpha\n",
        "            expectation_do_x.append(val)\n",
        "\n",
        "            expected_value += (1.0/counter)*(val - expected_value)\n",
        "            counter += 1\n",
        "        baseline_expectation_do_x.append(expected_value)\n",
        "        if not os.path.exists('ACE'):\n",
        "          os.mkdir('ACE')\n",
        "        with open('ACE/expectation_do_x_for_cause_'+str(t) + \"_and_effect_\" + str(output_index), 'wb') as fp:\n",
        "            pickle.dump(expectation_do_x, fp)\n",
        "        with open('ACE/baseline_expectation_do_x_for_cause_'+str(t) + \"_and_effect_\" + str(output_index), 'wb') as fp:\n",
        "            pickle.dump(baseline_expectation_do_x, fp)"
      ],
      "execution_count": 0,
      "outputs": []
    }
  ]
}